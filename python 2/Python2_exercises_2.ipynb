{
  "nbformat": 4,
  "nbformat_minor": 0,
  "metadata": {
    "colab": {
      "provenance": []
    },
    "kernelspec": {
      "name": "python3",
      "display_name": "Python 3"
    },
    "language_info": {
      "name": "python"
    }
  },
  "cells": [
    {
      "cell_type": "code",
      "execution_count": null,
      "metadata": {
        "id": "lzWautasXk2-"
      },
      "outputs": [],
      "source": [
        "def is_prime(x):\n",
        "    if x<=1:\n",
        "        return False\n",
        "    for i in range(2,x):\n",
        "        if x%i==0:\n",
        "            return False\n",
        "    return True\n",
        "\n",
        "print(is_prime(4))"
      ]
    },
    {
      "cell_type": "code",
      "source": [
        "def count_vowles(x):\n",
        "    return sum(1 for char in x if char in 'aeiuo')\n",
        "\n",
        "print(count_vowles(\"hello world\"))"
      ],
      "metadata": {
        "id": "8y9LHMzgXpuS"
      },
      "execution_count": null,
      "outputs": []
    },
    {
      "cell_type": "code",
      "source": [
        "def find_longest(x):\n",
        "    return max(x,key=len)\n",
        "\n",
        "x=[\"python\",\"java\",\"c++\",\"javascript\"]\n",
        "\n",
        "print(find_longest(x))"
      ],
      "metadata": {
        "id": "v7up7sOrXref"
      },
      "execution_count": null,
      "outputs": []
    },
    {
      "cell_type": "code",
      "source": [
        "def sum(numbers):\n",
        "    total = 0\n",
        "    for x in numbers:\n",
        "        total += x\n",
        "    return total\n",
        "print(sum((8, 2, 3, 0, 7)))"
      ],
      "metadata": {
        "id": "dl6pkqmkXw9A"
      },
      "execution_count": null,
      "outputs": []
    },
    {
      "cell_type": "code",
      "source": [
        "def max_of_two( x, y ):\n",
        "    if x > y:\n",
        "        return x\n",
        "    return y\n",
        "def max_of_three( x, y, z ):\n",
        "    return max_of_two( x, max_of_two( y, z ) )\n",
        "print(max_of_three(3, 6, -5))"
      ],
      "metadata": {
        "id": "xiQ0D6FpX24q"
      },
      "execution_count": null,
      "outputs": []
    }
  ]
}