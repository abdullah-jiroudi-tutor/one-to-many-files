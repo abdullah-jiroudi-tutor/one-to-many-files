{
  "nbformat": 4,
  "nbformat_minor": 0,
  "metadata": {
    "colab": {
      "private_outputs": true,
      "provenance": []
    },
    "kernelspec": {
      "name": "python3",
      "display_name": "Python 3"
    },
    "language_info": {
      "name": "python"
    }
  },
  "cells": [
    {
      "cell_type": "markdown",
      "source": [
        "# Q1 Level I"
      ],
      "metadata": {
        "id": "DX2qu1kxvadd"
      }
    },
    {
      "cell_type": "markdown",
      "source": [
        "\n",
        "Write a Python program to find the most frequent element in a list of integers.\n",
        "\n",
        "Given a list of integers, write a Python program to find the most frequent element in the list. For example, if the list is [1, 2, 3, 3, 3, 4, 4, 5, 5], the most frequent element is 3.\n"
      ],
      "metadata": {
        "id": "8u_wgdN9jIfy"
      }
    },
    {
      "cell_type": "code",
      "source": [
        "from collections import Counter\n",
        "numbers = input(\"Enter a list of numbers separated by spaces: \")\n",
        "numbers = list(map(int, numbers.split()))\n",
        "freq_count = Counter(numbers)\n",
        "max_count = max(list(freq_count.values()))\n",
        "mode_val = []\n",
        "for num,freq in freq_count.items():\n",
        "  if freq == max_count:\n",
        "    mode_val.append(num)\n",
        "print(mode_val)"
      ],
      "metadata": {
        "id": "n_rFiv4G3Pfh"
      },
      "execution_count": null,
      "outputs": []
    },
    {
      "cell_type": "markdown",
      "source": [
        "Write a Python program to find the median of a list of integers.\n",
        "\n",
        "Given a list of integers, write a Python program to find the median of the list. The median is the middle value in a sorted list of numbers. If the list has an odd number of elements, the median is the middle element. If the list has an even number of elements, the median is the average of the two middle elements."
      ],
      "metadata": {
        "id": "6cSzNf9dtHG7"
      }
    },
    {
      "cell_type": "code",
      "source": [
        "numbers = input(\"Enter a list of numbers separated by spaces: \")\n",
        "numbers = list(map(int, numbers.split()))\n",
        "sorted_lst = sorted(numbers)\n",
        "n = len(sorted_lst)\n",
        "if n % 2 == 1:\n",
        "     print(sorted_lst[n // 2])\n",
        "else:\n",
        "     mid1, mid2 = sorted_lst[n // 2 - 1], sorted_lst[n // 2]\n",
        "     print((mid1 + mid2) / 2)"
      ],
      "metadata": {
        "id": "U4TompA-31um"
      },
      "execution_count": null,
      "outputs": []
    },
    {
      "cell_type": "markdown",
      "source": [
        "Write a Python program to merge two sorted lists into a single sorted list.\n",
        "\n",
        "Given two sorted lists, write a Python program to merge the lists into a single sorted list. For example, if the two lists are [1, 3, 5, 7] and [2, 4, 6, 8], the merged list should be [1, 2, 3, 4, 5, 6, 7, 8]."
      ],
      "metadata": {
        "id": "IJBP3WyktR77"
      }
    },
    {
      "cell_type": "code",
      "source": [
        "def merge_sorted_lists(list1, list2):\n",
        "    return sorted(list1 + list2)\n",
        "\n",
        "def main():\n",
        "    list1 = [1, 3, 5, 7]\n",
        "    list2 = [2, 4, 6, 8]\n",
        "    merged_list = merge_sorted_lists(list1, list2)\n",
        "    print(\"The merged and sorted list is:\", merged_list)\n",
        "\n",
        "if __name__ == \"__main__\":\n",
        "    main()"
      ],
      "metadata": {
        "id": "ec7HIze7tUMn"
      },
      "execution_count": null,
      "outputs": []
    },
    {
      "cell_type": "markdown",
      "source": [
        "Write a Python program to find the intersection of two lists.\n",
        "\n",
        "Given two lists, write a Python program to find the intersection of the two lists. The intersection is the set of elements that appear in both lists. For example, if the two lists are [1, 2, 3] and [2, 3, 4], the intersection is [2, 3]."
      ],
      "metadata": {
        "id": "E8cmM2-itUd3"
      }
    },
    {
      "cell_type": "code",
      "source": [
        "numbers1 = input(\"Enter a list of numbers separated by spaces: \")\n",
        "numbers1 = list(map(int, numbers.split()))\n",
        "numbers2 = input(\"Enter a list of numbers separated by spaces: \")\n",
        "numbers2 = list(map(int, numbers.split()))\n",
        "intersection=[]\n",
        "for i in numbers1:\n",
        "  if i in numbers2:\n",
        "    intersection.append(i)\n",
        "print(intersection)"
      ],
      "metadata": {
        "id": "QwAzLw6itXfz"
      },
      "execution_count": null,
      "outputs": []
    }
  ]
}