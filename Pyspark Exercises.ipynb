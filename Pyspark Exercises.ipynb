{
 "cells": [
  {
   "cell_type": "code",
   "execution_count": 11,
   "metadata": {},
   "outputs": [
    {
     "data": {
      "text/plain": [
       "'C:\\\\ApacheSpark\\\\spark-3.0.1-bin-hadoop3.2'"
      ]
     },
     "execution_count": 11,
     "metadata": {},
     "output_type": "execute_result"
    }
   ],
   "source": [
    "import findspark\n",
    "findspark.init()\n",
    "findspark.find()\n"
   ]
  },
  {
   "cell_type": "code",
   "execution_count": 12,
   "metadata": {},
   "outputs": [
    {
     "data": {
      "text/plain": [
       "'C:\\\\ApacheSpark\\\\spark-3.0.1-bin-hadoop3.2'"
      ]
     },
     "execution_count": 12,
     "metadata": {},
     "output_type": "execute_result"
    }
   ],
   "source": [
    "import pyspark\n",
    "findspark.find()"
   ]
  },
  {
   "cell_type": "code",
   "execution_count": 13,
   "metadata": {},
   "outputs": [],
   "source": [
    "import pyspark\n",
    "from pyspark.sql import SparkSession"
   ]
  },
  {
   "cell_type": "code",
   "execution_count": 14,
   "metadata": {},
   "outputs": [],
   "source": [
    "spark = SparkSession.builder.master(\"local[*]\").appName(\"Datamanipulation\").getOrCreate()"
   ]
  },
  {
   "cell_type": "code",
   "execution_count": 24,
   "metadata": {},
   "outputs": [
    {
     "name": "stdout",
     "output_type": "stream",
     "text": [
      "hello world"
     ]
    }
   ],
   "source": [
    "data=\"hello \",\"world\"\n",
    "rdd=spark.sparkContext.parallelize(list(data))\n",
    "rddc=rdd.collect()\n",
    "for i in rddc:\n",
    "    print(i,end='')"
   ]
  },
  {
   "cell_type": "code",
   "execution_count": 25,
   "metadata": {},
   "outputs": [
    {
     "name": "stdout",
     "output_type": "stream",
     "text": [
      "210\n"
     ]
    }
   ],
   "source": [
    "data=[1,2,3,4,5,6,7,8,9,10,11,12,13,14,15,16,17,18,19,20]\n",
    "print(spark.sparkContext.parallelize(data).reduce(lambda x,y:x+y))"
   ]
  },
  {
   "cell_type": "code",
   "execution_count": 26,
   "metadata": {},
   "outputs": [
    {
     "name": "stdout",
     "output_type": "stream",
     "text": [
      "210\n"
     ]
    }
   ],
   "source": [
    "from operator import add\n",
    "print(spark.sparkContext.parallelize(data).reduce(add))"
   ]
  },
  {
   "cell_type": "code",
   "execution_count": 21,
   "metadata": {},
   "outputs": [
    {
     "name": "stdout",
     "output_type": "stream",
     "text": [
      "root\n",
      " |-- Name: string (nullable = false)\n",
      " |-- Surname: string (nullable = false)\n",
      " |-- Gender: string (nullable = false)\n",
      " |-- Country: string (nullable = false)\n",
      " |-- Age: string (nullable = false)\n",
      " |-- Salary: integer (nullable = false)\n",
      "\n",
      "+-------+--------+------+-------+---+------+\n",
      "|Name   |Surname |Gender|Country|Age|Salary|\n",
      "+-------+--------+------+-------+---+------+\n",
      "|Mohamed|Jabri   |male  |Syria  |25 |3000  |\n",
      "|Yousuf |Almassri|male  |Syria  |24 |2500  |\n",
      "|Rama   |Teba    |Female|Syria  |25 |4000  |\n",
      "|Ahamd  |Mahfouz |male  |Egypt  |23 |2000  |\n",
      "|Moe    |Jiro    |male  |USA    |34 |3500  |\n",
      "|Khaled |Alaseeri|male  |Oman   |36 |4000  |\n",
      "+-------+--------+------+-------+---+------+\n",
      "\n"
     ]
    }
   ],
   "source": [
    "from pyspark.sql import SparkSession\n",
    "from pyspark.sql.types import StringType, StructField, StringType, IntegerType, StructType\n",
    "\n",
    "spark=SparkSession.builder \\\n",
    "    .master(\"local[1]\") \\\n",
    "    .appName('classfriends')\\\n",
    "    .getOrCreate()\n",
    "\n",
    "data=[(\"Mohamed\",\"Jabri\",\"male\",\"usa\",\"25\",3000),\n",
    "      (\"Yousuf\",\"Almassri\",\"male\",\"jordon\",\"24\",2500),\n",
    "      (\"Rama\",\"Teba\",\"Female\",\"Syria\",\"25\",4000),\n",
    "      (\"Ahamd\",\"Mahfouz\",\"male\",\"Egypt\",\"23\",2000),\n",
    "      (\"Moe\",\"Jiro\",\"male\",\"USA\",\"34\",3500),\n",
    "      (\"Khaled\",\"Alaseeri\",\"male\",\"Oman\",\"36\",4000)]\n",
    "\n",
    "schema=StructType([\\\n",
    "    StructField(\"Name\",StringType(),False),\\\n",
    "    StructField(\"Surname\",StringType(),False),\\\n",
    "    StructField(\"Gender\",StringType(),False),\\\n",
    "    StructField(\"Country\",StringType(),False),\\\n",
    "    StructField(\"Age\",StringType(),False),\\\n",
    "    StructField(\"Salary\",IntegerType(),False),\\\n",
    "    ])\n",
    "\n",
    "df=spark.createDataFrame(data=data,schema=schema)\n",
    "df.printSchema()\n",
    "df.show(truncate=False)"
   ]
  },
  {
   "cell_type": "code",
   "execution_count": 28,
   "metadata": {},
   "outputs": [
    {
     "name": "stdout",
     "output_type": "stream",
     "text": [
      "Befor Increasing\n",
      "+-------+--------+------+-------+---+------+\n",
      "|Name   |Surname |Gender|Country|Age|Salary|\n",
      "+-------+--------+------+-------+---+------+\n",
      "|Mohamed|Jabri   |male  |Syria  |25 |3000  |\n",
      "|Yousuf |Almassri|male  |Syria  |24 |2500  |\n",
      "|Rama   |Teba    |Female|Syria  |25 |4000  |\n",
      "|Ahamd  |Mahfouz |male  |Egypt  |23 |2000  |\n",
      "|Moe    |Jiro    |male  |USA    |34 |3500  |\n",
      "|Khaled |Alaseeri|male  |Oman   |36 |4000  |\n",
      "+-------+--------+------+-------+---+------+\n",
      "\n",
      "After Increasing\n",
      "+-------+--------+------+-------+---+------+\n",
      "|Name   |Surname |Gender|Country|Age|Salary|\n",
      "+-------+--------+------+-------+---+------+\n",
      "|Mohamed|Jabri   |male  |Syria  |25 |3300.0|\n",
      "|Yousuf |Almassri|male  |Syria  |24 |2750.0|\n",
      "|Rama   |Teba    |Female|Syria  |25 |4400.0|\n",
      "|Ahamd  |Mahfouz |male  |Egypt  |23 |2200.0|\n",
      "|Moe    |Jiro    |male  |USA    |34 |3850.0|\n",
      "|Khaled |Alaseeri|male  |Oman   |36 |4400.0|\n",
      "+-------+--------+------+-------+---+------+\n",
      "\n"
     ]
    }
   ],
   "source": [
    "from pyspark.sql.functions import col\n",
    "\n",
    "print(\"Befor Increasing\")\n",
    "df.show(truncate=False)\n",
    "c=col('Salary')+(col('Salary')*0.1)\n",
    "df1=df.withColumn('Salary',c)\n",
    "print(\"After Increasing\")\n",
    "df1.show(truncate=False)"
   ]
  },
  {
   "cell_type": "code",
   "execution_count": 39,
   "metadata": {},
   "outputs": [
    {
     "name": "stdout",
     "output_type": "stream",
     "text": [
      "analytic  :  1\n",
      "work  :  1\n",
      "more  :  1\n",
      "in  :  1\n",
      "are  :  1\n",
      "very  :  1\n",
      "study  :  1\n",
      "how  :  1\n",
      "with  :  1\n",
      "every  :  1\n",
      "class.  :  1\n",
      "important.  :  1\n",
      "we  :  2\n",
      "data  :  2\n",
      "to  :  2\n",
      "learn  :  2\n",
      "skills  :  2\n"
     ]
    }
   ],
   "source": [
    "text = spark.sparkContext.textFile(\"C:\\\\Users\\\\abdullah\\\\PycharmProjects\\\\dataAnalyticsCodes\\\\HowMany_AbdullahJiroudi\\\\text.txt\")\n",
    "words = text.flatMap(lambda line: line.split(\" \"))\\\n",
    "        .map(lambda x: x.lower().replace(',',''))\\\n",
    "        .map(lambda value: (value,1) )\\\n",
    "        .reduceByKey(add)\n",
    "\n",
    "wordcount = words.sortBy(lambda  key: key[1]).collect()\n",
    "for(word,count) in wordcount: print(word,\" : \", count)"
   ]
  },
  {
   "cell_type": "code",
   "execution_count": null,
   "metadata": {},
   "outputs": [],
   "source": []
  }
 ],
 "metadata": {
  "kernelspec": {
   "display_name": "Python 3",
   "language": "python",
   "name": "python3"
  },
  "language_info": {
   "codemirror_mode": {
    "name": "ipython",
    "version": 3
   },
   "file_extension": ".py",
   "mimetype": "text/x-python",
   "name": "python",
   "nbconvert_exporter": "python",
   "pygments_lexer": "ipython3",
   "version": "3.7.1"
  }
 },
 "nbformat": 4,
 "nbformat_minor": 5
}
