{
  "nbformat": 4,
  "nbformat_minor": 0,
  "metadata": {
    "colab": {
      "provenance": []
    },
    "kernelspec": {
      "name": "python3",
      "display_name": "Python 3"
    },
    "language_info": {
      "name": "python"
    }
  },
  "cells": [
    {
      "cell_type": "markdown",
      "source": [
        "Exercise 1: Basic array operations\n",
        "\n",
        "Import the NumPy library as np.\n",
        "\n",
        "Create a 1D array of numbers from 0 to 9.\n",
        "\n",
        "Create a 3×3 NumPy array of all True’s.\n",
        "\n",
        "Extract all odd numbers from an array of 1-10.\n",
        "\n",
        "Replace all odd numbers in an array of 1-10 with the value -1 without changing the original array."
      ],
      "metadata": {
        "id": "wcQ6rhY5z4Nf"
      }
    },
    {
      "cell_type": "code",
      "execution_count": 3,
      "metadata": {
        "colab": {
          "base_uri": "https://localhost:8080/"
        },
        "id": "ftKKZprgzvPd",
        "outputId": "b3c29535-f9b0-4329-9926-cd842cffc568"
      },
      "outputs": [
        {
          "output_type": "stream",
          "name": "stdout",
          "text": [
            "[0 1 2 3 4 5 6 7 8 9]\n",
            "[[ True  True  True]\n",
            " [ True  True  True]\n",
            " [ True  True  True]]\n",
            "[1 3 5 7 9]\n",
            "[ 0 -1  2 -1  4 -1  6 -1  8 -1]\n"
          ]
        }
      ],
      "source": [
        "import numpy as np\n",
        "\n",
        "# 2\n",
        "array = np.arange(10)\n",
        "print(array)\n",
        "\n",
        "# 3\n",
        "bool_arr = np.ones((3,3), dtype=bool)\n",
        "print(bool_arr)\n",
        "\n",
        "# 4\n",
        "odd_values = array[array % 2 == 1]\n",
        "print(odd_values)\n",
        "\n",
        "# 5\n",
        "new_array = array.copy()\n",
        "new_array[new_array % 2 == 1] = -1\n",
        "print(new_array)"
      ]
    },
    {
      "cell_type": "markdown",
      "source": [
        "Exercise 2: Advanced array operations\n",
        "\n",
        "Convert a 1D array to a 2D array with 2 rows.\n",
        "\n",
        "Stack two arrays of any size horizontally and vertically.\n",
        "\n",
        "Get the common items between two Python NumPy arrays.\n",
        "\n",
        "Remove from one array those items that exist in another. For example, from array a = np.array([1,2,3,4,5]) remove all items that exist in b = np.array([5,6,7,8,9]).\n",
        "\n",
        "Get the positions where elements of two arrays match. For instance, if array a = np.array([1,2,3,2,3,4,3,4,5,6]) and array b = np.array([7,2,10,2,7,4,9,4,9,8]), find the positions where a and b have the same values."
      ],
      "metadata": {
        "id": "WHPf3NtZ0QMs"
      }
    },
    {
      "cell_type": "code",
      "source": [
        "# 1\n",
        "array = np.array([1, 2, 3, 4, 5, 6])\n",
        "new_array = array.reshape(2, -1)\n",
        "print(new_array)\n",
        "\n",
        "# 2\n",
        "a = np.array([1, 2, 3])\n",
        "b = np.array([4, 5, 6])\n",
        "print(np.hstack((a,b)))\n",
        "print(np.vstack((a,b)))\n",
        "\n",
        "# 3\n",
        "a = np.array([1,2,3,2,3,4,3,4,5,6])\n",
        "b = np.array([7,2,10,2,7,4,9,4,9,8])\n",
        "print(np.intersect1d(a, b))\n",
        "\n",
        "# 4\n",
        "a = np.array([1,2,3,4,5])\n",
        "b = np.array([5,6,7,8,9])\n",
        "print(np.setdiff1d(a, b))\n",
        "\n",
        "# 5\n",
        "a = np.array([1,2,3,2,3,4,3,4,5,6])\n",
        "b = np.array([7,2,10,2,7,4,9,4,9,8])\n",
        "print(np.where(a == b))"
      ],
      "metadata": {
        "colab": {
          "base_uri": "https://localhost:8080/"
        },
        "id": "Wt0gMCmM0VZA",
        "outputId": "6577e0df-6775-4f8f-f880-045a354455b9"
      },
      "execution_count": 10,
      "outputs": [
        {
          "output_type": "stream",
          "name": "stdout",
          "text": [
            "[[1 2 3]\n",
            " [4 5 6]]\n",
            "[1 2 3 4 5 6]\n",
            "[[1 2 3]\n",
            " [4 5 6]]\n",
            "[2 4]\n",
            "[1 2 3 4]\n",
            "(array([1, 3, 5, 7]),)\n"
          ]
        }
      ]
    },
    {
      "cell_type": "markdown",
      "source": [
        "Exercise 3: Statistics with NumPy\n",
        "\n",
        "Get the mean, median, standard deviation of a random array of size 30 that has values between 1 and 10.\n",
        "\n",
        "Normalize a 5x5 random matrix (adjust the values to be between 0 and 1).\n",
        "\n",
        "Given a 1D array, negate all elements which are between 3 and 8 (both inclusive).\n",
        "\n",
        "How to round away from zero a float array? For instance, if the array is [-3.1, 2.9, -7.6, 3.6], rounding away from zero would make it [-4, 3, -8, 4].\n",
        "\n",
        "How to find the most frequent value in an array?"
      ],
      "metadata": {
        "id": "YysTcKU-329t"
      }
    },
    {
      "cell_type": "code",
      "source": [
        "# 1\n",
        "a = np.random.randint(1, 10, 30)\n",
        "print(a)\n",
        "print(\"Mean: \", np.mean(a))\n",
        "print(\"Median: \", np.median(a))\n",
        "print(\"Std Dev: \", np.std(a))\n",
        "\n",
        "# 2\n",
        "m = np.random.rand(5,5)\n",
        "norm_m = (m - np.min(m)) / (np.max(m) - np.min(m))\n",
        "print(norm_m)\n",
        "\n",
        "# 3\n",
        "a = np.arange(10)\n",
        "a[(3 <= a) & (a <= 8)] *= -1\n",
        "print(a)\n",
        "\n",
        "# 4\n",
        "a = np.array([-3.1, 2.9, -7.6, 3.6])\n",
        "print(np.copysign(np.ceil(np.abs(a)), a))\n",
        "\n",
        "# 5\n",
        "a = np.array([1,2,3,1,2,3,1,2,3,3,3,3,4,4,4,4,4])\n",
        "counts = np.bincount(a)\n",
        "print(counts)\n",
        "print(np.argmax(counts))"
      ],
      "metadata": {
        "colab": {
          "base_uri": "https://localhost:8080/"
        },
        "id": "O3aUSMj038Vf",
        "outputId": "916adb23-2aaf-423d-eb7b-7521d1672db0"
      },
      "execution_count": 13,
      "outputs": [
        {
          "output_type": "stream",
          "name": "stdout",
          "text": [
            "[2 1 1 3 6 4 5 3 9 1 1 6 8 3 6 9 9 6 7 6 7 6 4 9 1 6 8 6 8 3]\n",
            "Mean:  5.133333333333334\n",
            "Median:  6.0\n",
            "Std Dev:  2.6674998698323407\n",
            "[[0.74656591 0.2493102  0.6960963  0.66810019 0.27471234]\n",
            " [0.89785832 0.82725884 0.96842989 0.35790809 1.        ]\n",
            " [0.61787634 0.53904988 0.85615011 0.20606071 0.13522997]\n",
            " [0.96826028 0.         0.48715248 0.42894376 0.06672882]\n",
            " [0.60821678 0.45895061 0.63828303 0.18626762 0.43123135]]\n",
            "[ 0  1  2 -3 -4 -5 -6 -7 -8  9]\n",
            "[-4.  3. -8.  4.]\n",
            "[0 3 3 6 5]\n",
            "3\n"
          ]
        }
      ]
    },
    {
      "cell_type": "markdown",
      "source": [
        "Exercise 4: Linear Algebra with NumPy\n",
        "\n",
        "Write a function to calculate the Euclidean distance between two points.\n",
        "\n",
        "Create a 3x3 identity matrix.\n",
        "\n",
        "Find the determinant of a 4x4 matrix.\n"
      ],
      "metadata": {
        "id": "wsqmyAmV6ECS"
      }
    },
    {
      "cell_type": "code",
      "source": [
        "# 1\n",
        "def euclidean_distance(pt1, pt2):\n",
        "    return np.sqrt(np.sum((np.array(pt1) - np.array(pt2))**2))\n",
        "\n",
        "print(euclidean_distance([1, 3], [2, 4]))\n",
        "\n",
        "\n",
        "# 3\n",
        "identity = np.eye(3)\n",
        "print(identity)\n",
        "\n",
        "# 4\n",
        "a = np.random.rand(4, 4)\n",
        "print(a)\n",
        "print(np.linalg.det(a))\n"
      ],
      "metadata": {
        "colab": {
          "base_uri": "https://localhost:8080/"
        },
        "id": "-SeO_0uY6KDf",
        "outputId": "6ef2f76a-b7db-42c9-dbfd-1f41ea12e5db"
      },
      "execution_count": 17,
      "outputs": [
        {
          "output_type": "stream",
          "name": "stdout",
          "text": [
            "1.4142135623730951\n",
            "[[1. 0. 0.]\n",
            " [0. 1. 0.]\n",
            " [0. 0. 1.]]\n",
            "[[0.74018173 0.29167089 0.17240143 0.45338594]\n",
            " [0.85641249 0.2589142  0.15084712 0.7002858 ]\n",
            " [0.08576302 0.80862277 0.38035398 0.73060266]\n",
            " [0.46752692 0.50681711 0.03489261 0.39190809]]\n",
            "-0.03263525649138307\n"
          ]
        }
      ]
    },
    {
      "cell_type": "code",
      "source": [],
      "metadata": {
        "id": "z-JNBqfC8nud"
      },
      "execution_count": null,
      "outputs": []
    }
  ]
}