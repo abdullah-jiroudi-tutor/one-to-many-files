{
  "nbformat": 4,
  "nbformat_minor": 0,
  "metadata": {
    "colab": {
      "provenance": []
    },
    "kernelspec": {
      "name": "python3",
      "display_name": "Python 3"
    },
    "language_info": {
      "name": "python"
    }
  },
  "cells": [
    {
      "cell_type": "markdown",
      "source": [
        "pandas filter"
      ],
      "metadata": {
        "id": "S6LCykTfmNMs"
      }
    },
    {
      "cell_type": "code",
      "execution_count": null,
      "metadata": {
        "id": "z7meEqEwlatq"
      },
      "outputs": [],
      "source": [
        "import pandas as pd\n",
        "data = pd.read_csv('world_alcohol.csv')\n",
        "data.head()"
      ]
    },
    {
      "cell_type": "code",
      "source": [
        "data.nunique()"
      ],
      "metadata": {
        "colab": {
          "base_uri": "https://localhost:8080/"
        },
        "id": "k6AaXXpdmpl_",
        "outputId": "447ebc32-3ad8-4cac-cea4-5d25d5f9338f"
      },
      "execution_count": null,
      "outputs": [
        {
          "output_type": "execute_result",
          "data": {
            "text/plain": [
              "Year               5\n",
              "WHO region         6\n",
              "Country           80\n",
              "Beverage Types     4\n",
              "Display Value     56\n",
              "dtype: int64"
            ]
          },
          "metadata": {},
          "execution_count": 3
        }
      ]
    },
    {
      "cell_type": "markdown",
      "source": [
        "1-Write a Pandas program to filter those records where WHO region matches with multiple values (Africa, Eastern Mediterranean, Europe) from world alcohol consumption dataset"
      ],
      "metadata": {
        "id": "u_u7pqqCmbVI"
      }
    },
    {
      "cell_type": "code",
      "source": [
        "flt_wine = data[\"WHO region\"].isin([\"Africa\", \"Eastern Mediterranean\", \"Europe\"])\n",
        "print(data[flt_wine])"
      ],
      "metadata": {
        "id": "6t6c3uUemaII"
      },
      "execution_count": null,
      "outputs": []
    },
    {
      "cell_type": "markdown",
      "source": [
        "2-Write a Pandas program to filter those records which not appears in a given list from world alcohol consumption dataset"
      ],
      "metadata": {
        "id": "RWA0_QDfnGBT"
      }
    },
    {
      "cell_type": "code",
      "source": [
        "who_region = [\"Africa\", \"Eastern Mediterranean\", \"Europe\"]\n",
        "flt_wine = ~data[\"WHO region\"].isin(who_region)\n",
        "print(data[flt_wine])"
      ],
      "metadata": {
        "id": "siZsPMg4nKur"
      },
      "execution_count": null,
      "outputs": []
    },
    {
      "cell_type": "markdown",
      "source": [
        "3-Write a Pandas program to filter all records where the average consumption of beverages per person from .5 to 2.50 in world alcohol consumption dataset"
      ],
      "metadata": {
        "id": "wHNMNYUsnsWJ"
      }
    },
    {
      "cell_type": "code",
      "source": [
        "print(data[(data['Display Value'] < 2.5) & (data['Display Value']>.5)].head())"
      ],
      "metadata": {
        "id": "pD8_xLuin00r"
      },
      "execution_count": null,
      "outputs": []
    },
    {
      "cell_type": "markdown",
      "source": [
        "4-Write a Pandas program to find number of consumption of wine per person greater than 2 in world alcohol consumption dataset"
      ],
      "metadata": {
        "id": "7J4IwrWtoEAe"
      }
    },
    {
      "cell_type": "code",
      "source": [
        "print(data[(data['Beverage Types'] == 'Wine') & (data['Display Value'] > .2)].count())"
      ],
      "metadata": {
        "id": "wv4me8K9oI3J"
      },
      "execution_count": null,
      "outputs": []
    },
    {
      "cell_type": "markdown",
      "source": [
        "5-Write a Pandas program to filter rows based on row numbers ended with 0, like 0, 10, 20, 30 from world alcohol consumption dataset"
      ],
      "metadata": {
        "id": "zlL36Cj5ox90"
      }
    },
    {
      "cell_type": "code",
      "source": [
        "print(data.filter(regex='0$', axis=0))"
      ],
      "metadata": {
        "id": "E8t6ZiVAo9aF"
      },
      "execution_count": null,
      "outputs": []
    },
    {
      "cell_type": "markdown",
      "source": [
        "6-Write a Pandas program to select consecutive columns and also select rows with Index label 0 to 9 with some columns from world alcohol consumption dataset."
      ],
      "metadata": {
        "id": "HxnZR-HRpzk4"
      }
    },
    {
      "cell_type": "code",
      "source": [
        "print(data.loc[:,\"Country\":\"Display Value\"].head())"
      ],
      "metadata": {
        "id": "q_FM2jZepyfw"
      },
      "execution_count": null,
      "outputs": []
    },
    {
      "cell_type": "code",
      "source": [
        "print(data.iloc[:,2:5].head())"
      ],
      "metadata": {
        "id": "hyfUql5sqXQj"
      },
      "execution_count": null,
      "outputs": []
    },
    {
      "cell_type": "code",
      "source": [
        "print(data.loc[0:9,[\"Year\",\"Country\",\"Display Value\"]])"
      ],
      "metadata": {
        "id": "1p_-hAm5qe6Q"
      },
      "execution_count": null,
      "outputs": []
    },
    {
      "cell_type": "markdown",
      "source": [
        "7-Write a Pandas program to filter all records starting from the 2nd row, access every 5th row from world alcohol consumption dataset."
      ],
      "metadata": {
        "id": "FnKYQcuJqruC"
      }
    },
    {
      "cell_type": "code",
      "source": [
        "data.iloc[1::5].head(10)"
      ],
      "metadata": {
        "id": "YBVOgpcQqtu0"
      },
      "execution_count": null,
      "outputs": []
    },
    {
      "cell_type": "markdown",
      "source": [
        "pandas grouping and aggregating"
      ],
      "metadata": {
        "id": "nrTLDfAPsIaw"
      }
    },
    {
      "cell_type": "code",
      "source": [
        "student_data = pd.DataFrame({\n",
        "    'school_code': ['s001','s002','s003','s001','s002','s004'],\n",
        "    'class': ['V', 'V', 'VI', 'VI', 'V', 'VI'],\n",
        "    'name': ['Alberto Franco','Gino Mcneill','Ryan Parkes', 'Eesha Hinton', 'Gino Mcneill', 'David Parkes'],\n",
        "    'date_Of_Birth ': ['15/05/2002','17/05/2002','16/02/1999','25/09/1998','11/05/2002','15/09/1997'],\n",
        "    'age': [12, 12, 13, 13, 14, 12],\n",
        "    'height': [173, 192, 186, 167, 151, 159],\n",
        "    'weight': [35, 32, 33, 30, 31, 32],\n",
        "    'address': ['street1', 'street2', 'street3', 'street1', 'street2', 'street4']},\n",
        "    index=['S1', 'S2', 'S3', 'S4', 'S5', 'S6'])\n",
        "student_data.head()"
      ],
      "metadata": {
        "colab": {
          "base_uri": "https://localhost:8080/",
          "height": 206
        },
        "id": "l4s7mDrmsPVM",
        "outputId": "a204150a-941e-4306-8d88-3b4696e48e37"
      },
      "execution_count": null,
      "outputs": [
        {
          "output_type": "execute_result",
          "data": {
            "text/plain": [
              "   school_code class            name date_Of_Birth   age  height  weight  \\\n",
              "S1        s001     V  Alberto Franco     15/05/2002   12     173      35   \n",
              "S2        s002     V    Gino Mcneill     17/05/2002   12     192      32   \n",
              "S3        s003    VI     Ryan Parkes     16/02/1999   13     186      33   \n",
              "S4        s001    VI    Eesha Hinton     25/09/1998   13     167      30   \n",
              "S5        s002     V    Gino Mcneill     11/05/2002   14     151      31   \n",
              "\n",
              "    address  \n",
              "S1  street1  \n",
              "S2  street2  \n",
              "S3  street3  \n",
              "S4  street1  \n",
              "S5  street2  "
            ],
            "text/html": [
              "\n",
              "  <div id=\"df-aded02db-819d-4301-977a-cf0c75b7bc0c\">\n",
              "    <div class=\"colab-df-container\">\n",
              "      <div>\n",
              "<style scoped>\n",
              "    .dataframe tbody tr th:only-of-type {\n",
              "        vertical-align: middle;\n",
              "    }\n",
              "\n",
              "    .dataframe tbody tr th {\n",
              "        vertical-align: top;\n",
              "    }\n",
              "\n",
              "    .dataframe thead th {\n",
              "        text-align: right;\n",
              "    }\n",
              "</style>\n",
              "<table border=\"1\" class=\"dataframe\">\n",
              "  <thead>\n",
              "    <tr style=\"text-align: right;\">\n",
              "      <th></th>\n",
              "      <th>school_code</th>\n",
              "      <th>class</th>\n",
              "      <th>name</th>\n",
              "      <th>date_Of_Birth</th>\n",
              "      <th>age</th>\n",
              "      <th>height</th>\n",
              "      <th>weight</th>\n",
              "      <th>address</th>\n",
              "    </tr>\n",
              "  </thead>\n",
              "  <tbody>\n",
              "    <tr>\n",
              "      <th>S1</th>\n",
              "      <td>s001</td>\n",
              "      <td>V</td>\n",
              "      <td>Alberto Franco</td>\n",
              "      <td>15/05/2002</td>\n",
              "      <td>12</td>\n",
              "      <td>173</td>\n",
              "      <td>35</td>\n",
              "      <td>street1</td>\n",
              "    </tr>\n",
              "    <tr>\n",
              "      <th>S2</th>\n",
              "      <td>s002</td>\n",
              "      <td>V</td>\n",
              "      <td>Gino Mcneill</td>\n",
              "      <td>17/05/2002</td>\n",
              "      <td>12</td>\n",
              "      <td>192</td>\n",
              "      <td>32</td>\n",
              "      <td>street2</td>\n",
              "    </tr>\n",
              "    <tr>\n",
              "      <th>S3</th>\n",
              "      <td>s003</td>\n",
              "      <td>VI</td>\n",
              "      <td>Ryan Parkes</td>\n",
              "      <td>16/02/1999</td>\n",
              "      <td>13</td>\n",
              "      <td>186</td>\n",
              "      <td>33</td>\n",
              "      <td>street3</td>\n",
              "    </tr>\n",
              "    <tr>\n",
              "      <th>S4</th>\n",
              "      <td>s001</td>\n",
              "      <td>VI</td>\n",
              "      <td>Eesha Hinton</td>\n",
              "      <td>25/09/1998</td>\n",
              "      <td>13</td>\n",
              "      <td>167</td>\n",
              "      <td>30</td>\n",
              "      <td>street1</td>\n",
              "    </tr>\n",
              "    <tr>\n",
              "      <th>S5</th>\n",
              "      <td>s002</td>\n",
              "      <td>V</td>\n",
              "      <td>Gino Mcneill</td>\n",
              "      <td>11/05/2002</td>\n",
              "      <td>14</td>\n",
              "      <td>151</td>\n",
              "      <td>31</td>\n",
              "      <td>street2</td>\n",
              "    </tr>\n",
              "  </tbody>\n",
              "</table>\n",
              "</div>\n",
              "      <button class=\"colab-df-convert\" onclick=\"convertToInteractive('df-aded02db-819d-4301-977a-cf0c75b7bc0c')\"\n",
              "              title=\"Convert this dataframe to an interactive table.\"\n",
              "              style=\"display:none;\">\n",
              "        \n",
              "  <svg xmlns=\"http://www.w3.org/2000/svg\" height=\"24px\"viewBox=\"0 0 24 24\"\n",
              "       width=\"24px\">\n",
              "    <path d=\"M0 0h24v24H0V0z\" fill=\"none\"/>\n",
              "    <path d=\"M18.56 5.44l.94 2.06.94-2.06 2.06-.94-2.06-.94-.94-2.06-.94 2.06-2.06.94zm-11 1L8.5 8.5l.94-2.06 2.06-.94-2.06-.94L8.5 2.5l-.94 2.06-2.06.94zm10 10l.94 2.06.94-2.06 2.06-.94-2.06-.94-.94-2.06-.94 2.06-2.06.94z\"/><path d=\"M17.41 7.96l-1.37-1.37c-.4-.4-.92-.59-1.43-.59-.52 0-1.04.2-1.43.59L10.3 9.45l-7.72 7.72c-.78.78-.78 2.05 0 2.83L4 21.41c.39.39.9.59 1.41.59.51 0 1.02-.2 1.41-.59l7.78-7.78 2.81-2.81c.8-.78.8-2.07 0-2.86zM5.41 20L4 18.59l7.72-7.72 1.47 1.35L5.41 20z\"/>\n",
              "  </svg>\n",
              "      </button>\n",
              "      \n",
              "  <style>\n",
              "    .colab-df-container {\n",
              "      display:flex;\n",
              "      flex-wrap:wrap;\n",
              "      gap: 12px;\n",
              "    }\n",
              "\n",
              "    .colab-df-convert {\n",
              "      background-color: #E8F0FE;\n",
              "      border: none;\n",
              "      border-radius: 50%;\n",
              "      cursor: pointer;\n",
              "      display: none;\n",
              "      fill: #1967D2;\n",
              "      height: 32px;\n",
              "      padding: 0 0 0 0;\n",
              "      width: 32px;\n",
              "    }\n",
              "\n",
              "    .colab-df-convert:hover {\n",
              "      background-color: #E2EBFA;\n",
              "      box-shadow: 0px 1px 2px rgba(60, 64, 67, 0.3), 0px 1px 3px 1px rgba(60, 64, 67, 0.15);\n",
              "      fill: #174EA6;\n",
              "    }\n",
              "\n",
              "    [theme=dark] .colab-df-convert {\n",
              "      background-color: #3B4455;\n",
              "      fill: #D2E3FC;\n",
              "    }\n",
              "\n",
              "    [theme=dark] .colab-df-convert:hover {\n",
              "      background-color: #434B5C;\n",
              "      box-shadow: 0px 1px 3px 1px rgba(0, 0, 0, 0.15);\n",
              "      filter: drop-shadow(0px 1px 2px rgba(0, 0, 0, 0.3));\n",
              "      fill: #FFFFFF;\n",
              "    }\n",
              "  </style>\n",
              "\n",
              "      <script>\n",
              "        const buttonEl =\n",
              "          document.querySelector('#df-aded02db-819d-4301-977a-cf0c75b7bc0c button.colab-df-convert');\n",
              "        buttonEl.style.display =\n",
              "          google.colab.kernel.accessAllowed ? 'block' : 'none';\n",
              "\n",
              "        async function convertToInteractive(key) {\n",
              "          const element = document.querySelector('#df-aded02db-819d-4301-977a-cf0c75b7bc0c');\n",
              "          const dataTable =\n",
              "            await google.colab.kernel.invokeFunction('convertToInteractive',\n",
              "                                                     [key], {});\n",
              "          if (!dataTable) return;\n",
              "\n",
              "          const docLinkHtml = 'Like what you see? Visit the ' +\n",
              "            '<a target=\"_blank\" href=https://colab.research.google.com/notebooks/data_table.ipynb>data table notebook</a>'\n",
              "            + ' to learn more about interactive tables.';\n",
              "          element.innerHTML = '';\n",
              "          dataTable['output_type'] = 'display_data';\n",
              "          await google.colab.output.renderOutput(dataTable, element);\n",
              "          const docLink = document.createElement('div');\n",
              "          docLink.innerHTML = docLinkHtml;\n",
              "          element.appendChild(docLink);\n",
              "        }\n",
              "      </script>\n",
              "    </div>\n",
              "  </div>\n",
              "  "
            ]
          },
          "metadata": {},
          "execution_count": 3
        }
      ]
    },
    {
      "cell_type": "markdown",
      "source": [
        "1-Write a Pandas program to split the following dataframe into groups based on school code. Also check the type of GroupBy object"
      ],
      "metadata": {
        "id": "hXvO1lr4B3gC"
      }
    },
    {
      "cell_type": "code",
      "source": [
        "result = student_data.groupby(['school_code'])\n",
        "for name,group in result:\n",
        "    print(\"\\nGroup:\")\n",
        "    print(name)\n",
        "    print(group)\n",
        "print(\"\\nType of the object:\")\n",
        "print(type(result))"
      ],
      "metadata": {
        "id": "U0qZIQ5Qswse"
      },
      "execution_count": null,
      "outputs": []
    },
    {
      "cell_type": "code",
      "source": [
        "result = student_data.groupby(['school_code'])\n",
        "len(result)"
      ],
      "metadata": {
        "colab": {
          "base_uri": "https://localhost:8080/"
        },
        "id": "HSqDBRhTs67z",
        "outputId": "3731b953-640f-439a-d9de-4af494b9a6ca"
      },
      "execution_count": null,
      "outputs": [
        {
          "output_type": "execute_result",
          "data": {
            "text/plain": [
              "4"
            ]
          },
          "metadata": {},
          "execution_count": 5
        }
      ]
    },
    {
      "cell_type": "markdown",
      "source": [
        "2. Write a Pandas  program to split the following dataframe by school code and get mean, min, and max value of age for each school"
      ],
      "metadata": {
        "id": "DtmMMES2CHxC"
      }
    },
    {
      "cell_type": "code",
      "source": [
        "grouped_single = student_data.groupby('school_code').agg({'age': ['mean', 'min', 'max']})\n",
        "print(grouped_single)"
      ],
      "metadata": {
        "colab": {
          "base_uri": "https://localhost:8080/"
        },
        "id": "SC7HTGIECMdk",
        "outputId": "da9b2e07-c3d2-4ed4-fee4-0b8a4123618c"
      },
      "execution_count": null,
      "outputs": [
        {
          "output_type": "stream",
          "name": "stdout",
          "text": [
            "              age        \n",
            "             mean min max\n",
            "school_code              \n",
            "s001         12.5  12  13\n",
            "s002         13.0  12  14\n",
            "s003         13.0  13  13\n",
            "s004         12.0  12  12\n"
          ]
        }
      ]
    },
    {
      "cell_type": "markdown",
      "source": [
        "3. Write a Pandas program to split the following given dataframe into groups based on school code and class"
      ],
      "metadata": {
        "id": "D-8IwgORDRGK"
      }
    },
    {
      "cell_type": "code",
      "source": [
        "result = student_data.groupby(['school_code', 'class'])\n",
        "for name,group in result:\n",
        "    print(\"\\nGroup:\")\n",
        "    print(name)\n",
        "    print(group)"
      ],
      "metadata": {
        "id": "ORhnQUb5DWXx"
      },
      "execution_count": null,
      "outputs": []
    },
    {
      "cell_type": "markdown",
      "source": [
        "style "
      ],
      "metadata": {
        "id": "bXi2qL9NKnBX"
      }
    },
    {
      "cell_type": "markdown",
      "source": [
        "Create a dataframe of ten rows, four columns with random values. Convert some values to nan values. Write a Pandas program which will highlight the nan values."
      ],
      "metadata": {
        "id": "NpH5KAFAKo0m"
      }
    },
    {
      "cell_type": "code",
      "source": [
        "import pandas as pd\n",
        "import numpy as np\n",
        "\n",
        "df = pd.DataFrame({'A': np.linspace(1, 10,10)})\n",
        "df = pd.concat([df, pd.DataFrame(np.random.randn(10, 4), columns=list('BCDE'))],\n",
        "               axis=1)\n",
        "df.iloc[0, 2] = np.nan\n",
        "df.iloc[3, 3] = np.nan\n",
        "df.iloc[4, 1] = np.nan\n",
        "df.iloc[9, 4] = np.nan\n",
        "print(\"Original array:\")\n",
        "print(df)\n",
        "print(\"\\nNegative numbers red and positive numbers black:\")\n",
        "df.style.highlight_null(null_color='red')"
      ],
      "metadata": {
        "colab": {
          "base_uri": "https://localhost:8080/",
          "height": 606
        },
        "id": "IlIJ5CgYJI4O",
        "outputId": "91f5639f-8afe-4066-d835-eda3cb9649a8"
      },
      "execution_count": null,
      "outputs": [
        {
          "output_type": "stream",
          "name": "stdout",
          "text": [
            "Original array:\n",
            "      A         B         C         D         E\n",
            "0   1.0 -0.802332       NaN -0.138263 -0.470874\n",
            "1   2.0 -0.313894 -0.308149 -1.300694 -0.588126\n",
            "2   3.0 -0.656701 -1.673710  0.319815  0.806582\n",
            "3   4.0 -0.238460 -0.257553       NaN  0.170327\n",
            "4   5.0       NaN -0.114680 -0.529324 -1.112981\n",
            "5   6.0 -0.259462 -0.992229 -0.461104  0.730760\n",
            "6   7.0  1.647490 -0.556133 -1.299855  1.124259\n",
            "7   8.0 -1.094000  0.284062  0.019442  0.152530\n",
            "8   9.0 -0.333385 -1.351875  0.664361 -0.261644\n",
            "9  10.0 -1.013569  0.126093 -0.796576       NaN\n",
            "\n",
            "Negative numbers red and positive numbers black:\n"
          ]
        },
        {
          "output_type": "execute_result",
          "data": {
            "text/plain": [
              "<pandas.io.formats.style.Styler at 0x7f7a7b2d4e50>"
            ],
            "text/html": [
              "<style type=\"text/css\">\n",
              "#T_b9176_row0_col2, #T_b9176_row3_col3, #T_b9176_row4_col1, #T_b9176_row9_col4 {\n",
              "  background-color: red;\n",
              "}\n",
              "</style>\n",
              "<table id=\"T_b9176_\" class=\"dataframe\">\n",
              "  <thead>\n",
              "    <tr>\n",
              "      <th class=\"blank level0\" >&nbsp;</th>\n",
              "      <th class=\"col_heading level0 col0\" >A</th>\n",
              "      <th class=\"col_heading level0 col1\" >B</th>\n",
              "      <th class=\"col_heading level0 col2\" >C</th>\n",
              "      <th class=\"col_heading level0 col3\" >D</th>\n",
              "      <th class=\"col_heading level0 col4\" >E</th>\n",
              "    </tr>\n",
              "  </thead>\n",
              "  <tbody>\n",
              "    <tr>\n",
              "      <th id=\"T_b9176_level0_row0\" class=\"row_heading level0 row0\" >0</th>\n",
              "      <td id=\"T_b9176_row0_col0\" class=\"data row0 col0\" >1.000000</td>\n",
              "      <td id=\"T_b9176_row0_col1\" class=\"data row0 col1\" >-0.802332</td>\n",
              "      <td id=\"T_b9176_row0_col2\" class=\"data row0 col2\" >nan</td>\n",
              "      <td id=\"T_b9176_row0_col3\" class=\"data row0 col3\" >-0.138263</td>\n",
              "      <td id=\"T_b9176_row0_col4\" class=\"data row0 col4\" >-0.470874</td>\n",
              "    </tr>\n",
              "    <tr>\n",
              "      <th id=\"T_b9176_level0_row1\" class=\"row_heading level0 row1\" >1</th>\n",
              "      <td id=\"T_b9176_row1_col0\" class=\"data row1 col0\" >2.000000</td>\n",
              "      <td id=\"T_b9176_row1_col1\" class=\"data row1 col1\" >-0.313894</td>\n",
              "      <td id=\"T_b9176_row1_col2\" class=\"data row1 col2\" >-0.308149</td>\n",
              "      <td id=\"T_b9176_row1_col3\" class=\"data row1 col3\" >-1.300694</td>\n",
              "      <td id=\"T_b9176_row1_col4\" class=\"data row1 col4\" >-0.588126</td>\n",
              "    </tr>\n",
              "    <tr>\n",
              "      <th id=\"T_b9176_level0_row2\" class=\"row_heading level0 row2\" >2</th>\n",
              "      <td id=\"T_b9176_row2_col0\" class=\"data row2 col0\" >3.000000</td>\n",
              "      <td id=\"T_b9176_row2_col1\" class=\"data row2 col1\" >-0.656701</td>\n",
              "      <td id=\"T_b9176_row2_col2\" class=\"data row2 col2\" >-1.673710</td>\n",
              "      <td id=\"T_b9176_row2_col3\" class=\"data row2 col3\" >0.319815</td>\n",
              "      <td id=\"T_b9176_row2_col4\" class=\"data row2 col4\" >0.806582</td>\n",
              "    </tr>\n",
              "    <tr>\n",
              "      <th id=\"T_b9176_level0_row3\" class=\"row_heading level0 row3\" >3</th>\n",
              "      <td id=\"T_b9176_row3_col0\" class=\"data row3 col0\" >4.000000</td>\n",
              "      <td id=\"T_b9176_row3_col1\" class=\"data row3 col1\" >-0.238460</td>\n",
              "      <td id=\"T_b9176_row3_col2\" class=\"data row3 col2\" >-0.257553</td>\n",
              "      <td id=\"T_b9176_row3_col3\" class=\"data row3 col3\" >nan</td>\n",
              "      <td id=\"T_b9176_row3_col4\" class=\"data row3 col4\" >0.170327</td>\n",
              "    </tr>\n",
              "    <tr>\n",
              "      <th id=\"T_b9176_level0_row4\" class=\"row_heading level0 row4\" >4</th>\n",
              "      <td id=\"T_b9176_row4_col0\" class=\"data row4 col0\" >5.000000</td>\n",
              "      <td id=\"T_b9176_row4_col1\" class=\"data row4 col1\" >nan</td>\n",
              "      <td id=\"T_b9176_row4_col2\" class=\"data row4 col2\" >-0.114680</td>\n",
              "      <td id=\"T_b9176_row4_col3\" class=\"data row4 col3\" >-0.529324</td>\n",
              "      <td id=\"T_b9176_row4_col4\" class=\"data row4 col4\" >-1.112981</td>\n",
              "    </tr>\n",
              "    <tr>\n",
              "      <th id=\"T_b9176_level0_row5\" class=\"row_heading level0 row5\" >5</th>\n",
              "      <td id=\"T_b9176_row5_col0\" class=\"data row5 col0\" >6.000000</td>\n",
              "      <td id=\"T_b9176_row5_col1\" class=\"data row5 col1\" >-0.259462</td>\n",
              "      <td id=\"T_b9176_row5_col2\" class=\"data row5 col2\" >-0.992229</td>\n",
              "      <td id=\"T_b9176_row5_col3\" class=\"data row5 col3\" >-0.461104</td>\n",
              "      <td id=\"T_b9176_row5_col4\" class=\"data row5 col4\" >0.730760</td>\n",
              "    </tr>\n",
              "    <tr>\n",
              "      <th id=\"T_b9176_level0_row6\" class=\"row_heading level0 row6\" >6</th>\n",
              "      <td id=\"T_b9176_row6_col0\" class=\"data row6 col0\" >7.000000</td>\n",
              "      <td id=\"T_b9176_row6_col1\" class=\"data row6 col1\" >1.647490</td>\n",
              "      <td id=\"T_b9176_row6_col2\" class=\"data row6 col2\" >-0.556133</td>\n",
              "      <td id=\"T_b9176_row6_col3\" class=\"data row6 col3\" >-1.299855</td>\n",
              "      <td id=\"T_b9176_row6_col4\" class=\"data row6 col4\" >1.124259</td>\n",
              "    </tr>\n",
              "    <tr>\n",
              "      <th id=\"T_b9176_level0_row7\" class=\"row_heading level0 row7\" >7</th>\n",
              "      <td id=\"T_b9176_row7_col0\" class=\"data row7 col0\" >8.000000</td>\n",
              "      <td id=\"T_b9176_row7_col1\" class=\"data row7 col1\" >-1.094000</td>\n",
              "      <td id=\"T_b9176_row7_col2\" class=\"data row7 col2\" >0.284062</td>\n",
              "      <td id=\"T_b9176_row7_col3\" class=\"data row7 col3\" >0.019442</td>\n",
              "      <td id=\"T_b9176_row7_col4\" class=\"data row7 col4\" >0.152530</td>\n",
              "    </tr>\n",
              "    <tr>\n",
              "      <th id=\"T_b9176_level0_row8\" class=\"row_heading level0 row8\" >8</th>\n",
              "      <td id=\"T_b9176_row8_col0\" class=\"data row8 col0\" >9.000000</td>\n",
              "      <td id=\"T_b9176_row8_col1\" class=\"data row8 col1\" >-0.333385</td>\n",
              "      <td id=\"T_b9176_row8_col2\" class=\"data row8 col2\" >-1.351875</td>\n",
              "      <td id=\"T_b9176_row8_col3\" class=\"data row8 col3\" >0.664361</td>\n",
              "      <td id=\"T_b9176_row8_col4\" class=\"data row8 col4\" >-0.261644</td>\n",
              "    </tr>\n",
              "    <tr>\n",
              "      <th id=\"T_b9176_level0_row9\" class=\"row_heading level0 row9\" >9</th>\n",
              "      <td id=\"T_b9176_row9_col0\" class=\"data row9 col0\" >10.000000</td>\n",
              "      <td id=\"T_b9176_row9_col1\" class=\"data row9 col1\" >-1.013569</td>\n",
              "      <td id=\"T_b9176_row9_col2\" class=\"data row9 col2\" >0.126093</td>\n",
              "      <td id=\"T_b9176_row9_col3\" class=\"data row9 col3\" >-0.796576</td>\n",
              "      <td id=\"T_b9176_row9_col4\" class=\"data row9 col4\" >nan</td>\n",
              "    </tr>\n",
              "  </tbody>\n",
              "</table>\n"
            ]
          },
          "metadata": {},
          "execution_count": 20
        }
      ]
    },
    {
      "cell_type": "markdown",
      "source": [
        "Create a dataframe of ten rows, four columns with random values. Write a Pandas program to highlight dataframe’s specific columns with different colors."
      ],
      "metadata": {
        "id": "LzjLdAeDMHNV"
      }
    },
    {
      "cell_type": "code",
      "source": [
        "import pandas as pd\n",
        "import numpy as np\n",
        "df = pd.DataFrame({'A': np.linspace(1, 10, 10)})\n",
        "df = pd.concat([df, pd.DataFrame(np.random.randn(10, 4), columns=list('BCDE'))],\n",
        "               axis=1)\n",
        "df.iloc[0, 2] = np.nan\n",
        "df.iloc[3, 3] = np.nan\n",
        "df.iloc[4, 1] = np.nan\n",
        "df.iloc[9, 4] = np.nan\n",
        "print(\"Original array:\")\n",
        "print(df)\n",
        "print(\"\\nDifferent background color:\")\n",
        "coldict = {'B':'red', 'D':'yellow'}\n",
        "\n",
        "def highlight_cols(x):\n",
        "    #copy df to new - original data are not changed\n",
        "    df = x.copy()\n",
        "    #select all values to default value - red color\n",
        "    df.loc[:,:] = 'background-color: red'\n",
        "    #overwrite values grey color\n",
        "    df[['B','C', 'E']] = 'background-color: grey'\n",
        "    #return color df\n",
        "    return df    \n",
        "\n",
        "df.style.apply(highlight_cols, axis=None)"
      ],
      "metadata": {
        "colab": {
          "base_uri": "https://localhost:8080/",
          "height": 606
        },
        "id": "dJM6wnBXJJTH",
        "outputId": "4611e46e-4a55-4233-9a33-818ff9457e9e"
      },
      "execution_count": null,
      "outputs": [
        {
          "output_type": "stream",
          "name": "stdout",
          "text": [
            "Original array:\n",
            "      A         B         C         D         E\n",
            "0   1.0 -1.086028       NaN  1.681683 -2.453682\n",
            "1   2.0 -0.121366 -1.223406 -1.486419  0.852988\n",
            "2   3.0 -0.275621 -0.421774  0.468246 -0.345871\n",
            "3   4.0 -1.529607 -0.488445       NaN -0.035863\n",
            "4   5.0       NaN -0.203190 -1.659159 -1.419470\n",
            "5   6.0  0.574383  0.472583  1.831569  1.041504\n",
            "6   7.0 -0.099452  1.170370 -2.260768 -0.794143\n",
            "7   8.0 -0.634908 -2.329028  0.038551 -1.152470\n",
            "8   9.0 -0.117057  0.854916 -0.996020 -0.517409\n",
            "9  10.0  0.678757 -1.266961  1.272396       NaN\n",
            "\n",
            "Different background color:\n"
          ]
        },
        {
          "output_type": "execute_result",
          "data": {
            "text/plain": [
              "<pandas.io.formats.style.Styler at 0x7f7a7b307210>"
            ],
            "text/html": [
              "<style type=\"text/css\">\n",
              "#T_13591_row0_col0, #T_13591_row0_col3, #T_13591_row1_col0, #T_13591_row1_col3, #T_13591_row2_col0, #T_13591_row2_col3, #T_13591_row3_col0, #T_13591_row3_col3, #T_13591_row4_col0, #T_13591_row4_col3, #T_13591_row5_col0, #T_13591_row5_col3, #T_13591_row6_col0, #T_13591_row6_col3, #T_13591_row7_col0, #T_13591_row7_col3, #T_13591_row8_col0, #T_13591_row8_col3, #T_13591_row9_col0, #T_13591_row9_col3 {\n",
              "  background-color: red;\n",
              "}\n",
              "#T_13591_row0_col1, #T_13591_row0_col2, #T_13591_row0_col4, #T_13591_row1_col1, #T_13591_row1_col2, #T_13591_row1_col4, #T_13591_row2_col1, #T_13591_row2_col2, #T_13591_row2_col4, #T_13591_row3_col1, #T_13591_row3_col2, #T_13591_row3_col4, #T_13591_row4_col1, #T_13591_row4_col2, #T_13591_row4_col4, #T_13591_row5_col1, #T_13591_row5_col2, #T_13591_row5_col4, #T_13591_row6_col1, #T_13591_row6_col2, #T_13591_row6_col4, #T_13591_row7_col1, #T_13591_row7_col2, #T_13591_row7_col4, #T_13591_row8_col1, #T_13591_row8_col2, #T_13591_row8_col4, #T_13591_row9_col1, #T_13591_row9_col2, #T_13591_row9_col4 {\n",
              "  background-color: grey;\n",
              "}\n",
              "</style>\n",
              "<table id=\"T_13591_\" class=\"dataframe\">\n",
              "  <thead>\n",
              "    <tr>\n",
              "      <th class=\"blank level0\" >&nbsp;</th>\n",
              "      <th class=\"col_heading level0 col0\" >A</th>\n",
              "      <th class=\"col_heading level0 col1\" >B</th>\n",
              "      <th class=\"col_heading level0 col2\" >C</th>\n",
              "      <th class=\"col_heading level0 col3\" >D</th>\n",
              "      <th class=\"col_heading level0 col4\" >E</th>\n",
              "    </tr>\n",
              "  </thead>\n",
              "  <tbody>\n",
              "    <tr>\n",
              "      <th id=\"T_13591_level0_row0\" class=\"row_heading level0 row0\" >0</th>\n",
              "      <td id=\"T_13591_row0_col0\" class=\"data row0 col0\" >1.000000</td>\n",
              "      <td id=\"T_13591_row0_col1\" class=\"data row0 col1\" >-1.086028</td>\n",
              "      <td id=\"T_13591_row0_col2\" class=\"data row0 col2\" >nan</td>\n",
              "      <td id=\"T_13591_row0_col3\" class=\"data row0 col3\" >1.681683</td>\n",
              "      <td id=\"T_13591_row0_col4\" class=\"data row0 col4\" >-2.453682</td>\n",
              "    </tr>\n",
              "    <tr>\n",
              "      <th id=\"T_13591_level0_row1\" class=\"row_heading level0 row1\" >1</th>\n",
              "      <td id=\"T_13591_row1_col0\" class=\"data row1 col0\" >2.000000</td>\n",
              "      <td id=\"T_13591_row1_col1\" class=\"data row1 col1\" >-0.121366</td>\n",
              "      <td id=\"T_13591_row1_col2\" class=\"data row1 col2\" >-1.223406</td>\n",
              "      <td id=\"T_13591_row1_col3\" class=\"data row1 col3\" >-1.486419</td>\n",
              "      <td id=\"T_13591_row1_col4\" class=\"data row1 col4\" >0.852988</td>\n",
              "    </tr>\n",
              "    <tr>\n",
              "      <th id=\"T_13591_level0_row2\" class=\"row_heading level0 row2\" >2</th>\n",
              "      <td id=\"T_13591_row2_col0\" class=\"data row2 col0\" >3.000000</td>\n",
              "      <td id=\"T_13591_row2_col1\" class=\"data row2 col1\" >-0.275621</td>\n",
              "      <td id=\"T_13591_row2_col2\" class=\"data row2 col2\" >-0.421774</td>\n",
              "      <td id=\"T_13591_row2_col3\" class=\"data row2 col3\" >0.468246</td>\n",
              "      <td id=\"T_13591_row2_col4\" class=\"data row2 col4\" >-0.345871</td>\n",
              "    </tr>\n",
              "    <tr>\n",
              "      <th id=\"T_13591_level0_row3\" class=\"row_heading level0 row3\" >3</th>\n",
              "      <td id=\"T_13591_row3_col0\" class=\"data row3 col0\" >4.000000</td>\n",
              "      <td id=\"T_13591_row3_col1\" class=\"data row3 col1\" >-1.529607</td>\n",
              "      <td id=\"T_13591_row3_col2\" class=\"data row3 col2\" >-0.488445</td>\n",
              "      <td id=\"T_13591_row3_col3\" class=\"data row3 col3\" >nan</td>\n",
              "      <td id=\"T_13591_row3_col4\" class=\"data row3 col4\" >-0.035863</td>\n",
              "    </tr>\n",
              "    <tr>\n",
              "      <th id=\"T_13591_level0_row4\" class=\"row_heading level0 row4\" >4</th>\n",
              "      <td id=\"T_13591_row4_col0\" class=\"data row4 col0\" >5.000000</td>\n",
              "      <td id=\"T_13591_row4_col1\" class=\"data row4 col1\" >nan</td>\n",
              "      <td id=\"T_13591_row4_col2\" class=\"data row4 col2\" >-0.203190</td>\n",
              "      <td id=\"T_13591_row4_col3\" class=\"data row4 col3\" >-1.659159</td>\n",
              "      <td id=\"T_13591_row4_col4\" class=\"data row4 col4\" >-1.419470</td>\n",
              "    </tr>\n",
              "    <tr>\n",
              "      <th id=\"T_13591_level0_row5\" class=\"row_heading level0 row5\" >5</th>\n",
              "      <td id=\"T_13591_row5_col0\" class=\"data row5 col0\" >6.000000</td>\n",
              "      <td id=\"T_13591_row5_col1\" class=\"data row5 col1\" >0.574383</td>\n",
              "      <td id=\"T_13591_row5_col2\" class=\"data row5 col2\" >0.472583</td>\n",
              "      <td id=\"T_13591_row5_col3\" class=\"data row5 col3\" >1.831569</td>\n",
              "      <td id=\"T_13591_row5_col4\" class=\"data row5 col4\" >1.041504</td>\n",
              "    </tr>\n",
              "    <tr>\n",
              "      <th id=\"T_13591_level0_row6\" class=\"row_heading level0 row6\" >6</th>\n",
              "      <td id=\"T_13591_row6_col0\" class=\"data row6 col0\" >7.000000</td>\n",
              "      <td id=\"T_13591_row6_col1\" class=\"data row6 col1\" >-0.099452</td>\n",
              "      <td id=\"T_13591_row6_col2\" class=\"data row6 col2\" >1.170370</td>\n",
              "      <td id=\"T_13591_row6_col3\" class=\"data row6 col3\" >-2.260768</td>\n",
              "      <td id=\"T_13591_row6_col4\" class=\"data row6 col4\" >-0.794143</td>\n",
              "    </tr>\n",
              "    <tr>\n",
              "      <th id=\"T_13591_level0_row7\" class=\"row_heading level0 row7\" >7</th>\n",
              "      <td id=\"T_13591_row7_col0\" class=\"data row7 col0\" >8.000000</td>\n",
              "      <td id=\"T_13591_row7_col1\" class=\"data row7 col1\" >-0.634908</td>\n",
              "      <td id=\"T_13591_row7_col2\" class=\"data row7 col2\" >-2.329028</td>\n",
              "      <td id=\"T_13591_row7_col3\" class=\"data row7 col3\" >0.038551</td>\n",
              "      <td id=\"T_13591_row7_col4\" class=\"data row7 col4\" >-1.152470</td>\n",
              "    </tr>\n",
              "    <tr>\n",
              "      <th id=\"T_13591_level0_row8\" class=\"row_heading level0 row8\" >8</th>\n",
              "      <td id=\"T_13591_row8_col0\" class=\"data row8 col0\" >9.000000</td>\n",
              "      <td id=\"T_13591_row8_col1\" class=\"data row8 col1\" >-0.117057</td>\n",
              "      <td id=\"T_13591_row8_col2\" class=\"data row8 col2\" >0.854916</td>\n",
              "      <td id=\"T_13591_row8_col3\" class=\"data row8 col3\" >-0.996020</td>\n",
              "      <td id=\"T_13591_row8_col4\" class=\"data row8 col4\" >-0.517409</td>\n",
              "    </tr>\n",
              "    <tr>\n",
              "      <th id=\"T_13591_level0_row9\" class=\"row_heading level0 row9\" >9</th>\n",
              "      <td id=\"T_13591_row9_col0\" class=\"data row9 col0\" >10.000000</td>\n",
              "      <td id=\"T_13591_row9_col1\" class=\"data row9 col1\" >0.678757</td>\n",
              "      <td id=\"T_13591_row9_col2\" class=\"data row9 col2\" >-1.266961</td>\n",
              "      <td id=\"T_13591_row9_col3\" class=\"data row9 col3\" >1.272396</td>\n",
              "      <td id=\"T_13591_row9_col4\" class=\"data row9 col4\" >nan</td>\n",
              "    </tr>\n",
              "  </tbody>\n",
              "</table>\n"
            ]
          },
          "metadata": {},
          "execution_count": 23
        }
      ]
    },
    {
      "cell_type": "markdown",
      "source": [
        "Write a Pandas program to display the dataframe in Heatmap style."
      ],
      "metadata": {
        "id": "ZSXGnTFRNZOD"
      }
    },
    {
      "cell_type": "code",
      "source": [
        "import pandas as pd\n",
        "import numpy as np\n",
        "import seaborn as sns\n",
        "\n",
        "np.random.seed(24)\n",
        "df = pd.DataFrame({'A': np.linspace(1, 10, 10)})\n",
        "df = pd.concat([df, pd.DataFrame(np.random.randn(10, 4), columns=list('BCDE'))],\n",
        "               axis=1)\n",
        "\n",
        "df.style.background_gradient(cmap='YlOrRd') "
      ],
      "metadata": {
        "colab": {
          "base_uri": "https://localhost:8080/",
          "height": 363
        },
        "id": "9mXeRQzGL_tz",
        "outputId": "01e334ca-655d-46d2-b777-25a1e6c870ae"
      },
      "execution_count": null,
      "outputs": [
        {
          "output_type": "execute_result",
          "data": {
            "text/plain": [
              "<pandas.io.formats.style.Styler at 0x7f7a6ee98310>"
            ],
            "text/html": [
              "<style type=\"text/css\">\n",
              "#T_becd4_row0_col0, #T_becd4_row1_col2, #T_becd4_row2_col1, #T_becd4_row8_col4, #T_becd4_row9_col3 {\n",
              "  background-color: #ffffcc;\n",
              "  color: #000000;\n",
              "}\n",
              "#T_becd4_row0_col1 {\n",
              "  background-color: #b40026;\n",
              "  color: #f1f1f1;\n",
              "}\n",
              "#T_becd4_row0_col2 {\n",
              "  background-color: #fed976;\n",
              "  color: #000000;\n",
              "}\n",
              "#T_becd4_row0_col3 {\n",
              "  background-color: #ffec9d;\n",
              "  color: #000000;\n",
              "}\n",
              "#T_becd4_row0_col4 {\n",
              "  background-color: #fed16e;\n",
              "  color: #000000;\n",
              "}\n",
              "#T_becd4_row1_col0 {\n",
              "  background-color: #ffefa5;\n",
              "  color: #000000;\n",
              "}\n",
              "#T_becd4_row1_col1 {\n",
              "  background-color: #ffe793;\n",
              "  color: #000000;\n",
              "}\n",
              "#T_becd4_row1_col3 {\n",
              "  background-color: #fc6832;\n",
              "  color: #f1f1f1;\n",
              "}\n",
              "#T_becd4_row1_col4, #T_becd4_row7_col1, #T_becd4_row9_col4 {\n",
              "  background-color: #fc5b2e;\n",
              "  color: #f1f1f1;\n",
              "}\n",
              "#T_becd4_row2_col0 {\n",
              "  background-color: #fede80;\n",
              "  color: #000000;\n",
              "}\n",
              "#T_becd4_row2_col2, #T_becd4_row2_col3 {\n",
              "  background-color: #fc4d2a;\n",
              "  color: #f1f1f1;\n",
              "}\n",
              "#T_becd4_row2_col4, #T_becd4_row6_col2, #T_becd4_row8_col1, #T_becd4_row8_col3, #T_becd4_row9_col0 {\n",
              "  background-color: #800026;\n",
              "  color: #f1f1f1;\n",
              "}\n",
              "#T_becd4_row3_col0 {\n",
              "  background-color: #febf5a;\n",
              "  color: #000000;\n",
              "}\n",
              "#T_becd4_row3_col1, #T_becd4_row7_col0 {\n",
              "  background-color: #da141e;\n",
              "  color: #f1f1f1;\n",
              "}\n",
              "#T_becd4_row3_col2 {\n",
              "  background-color: #fc6330;\n",
              "  color: #f1f1f1;\n",
              "}\n",
              "#T_becd4_row3_col3 {\n",
              "  background-color: #fff8ba;\n",
              "  color: #000000;\n",
              "}\n",
              "#T_becd4_row3_col4 {\n",
              "  background-color: #e51e1d;\n",
              "  color: #f1f1f1;\n",
              "}\n",
              "#T_becd4_row4_col0 {\n",
              "  background-color: #fd9e43;\n",
              "  color: #000000;\n",
              "}\n",
              "#T_becd4_row4_col1 {\n",
              "  background-color: #a20026;\n",
              "  color: #f1f1f1;\n",
              "}\n",
              "#T_becd4_row4_col2 {\n",
              "  background-color: #9b0026;\n",
              "  color: #f1f1f1;\n",
              "}\n",
              "#T_becd4_row4_col3 {\n",
              "  background-color: #feb34d;\n",
              "  color: #000000;\n",
              "}\n",
              "#T_becd4_row4_col4, #T_becd4_row7_col4 {\n",
              "  background-color: #f64227;\n",
              "  color: #f1f1f1;\n",
              "}\n",
              "#T_becd4_row5_col0 {\n",
              "  background-color: #fd7034;\n",
              "  color: #f1f1f1;\n",
              "}\n",
              "#T_becd4_row5_col1 {\n",
              "  background-color: #fff3ae;\n",
              "  color: #000000;\n",
              "}\n",
              "#T_becd4_row5_col2 {\n",
              "  background-color: #e1191d;\n",
              "  color: #f1f1f1;\n",
              "}\n",
              "#T_becd4_row5_col3 {\n",
              "  background-color: #880026;\n",
              "  color: #f1f1f1;\n",
              "}\n",
              "#T_becd4_row5_col4 {\n",
              "  background-color: #fd883b;\n",
              "  color: #f1f1f1;\n",
              "}\n",
              "#T_becd4_row6_col0 {\n",
              "  background-color: #f43d25;\n",
              "  color: #f1f1f1;\n",
              "}\n",
              "#T_becd4_row6_col1 {\n",
              "  background-color: #fd7e38;\n",
              "  color: #f1f1f1;\n",
              "}\n",
              "#T_becd4_row6_col3 {\n",
              "  background-color: #fecc68;\n",
              "  color: #000000;\n",
              "}\n",
              "#T_becd4_row6_col4, #T_becd4_row7_col2 {\n",
              "  background-color: #9f0026;\n",
              "  color: #f1f1f1;\n",
              "}\n",
              "#T_becd4_row7_col3 {\n",
              "  background-color: #fff1a9;\n",
              "  color: #000000;\n",
              "}\n",
              "#T_becd4_row8_col0 {\n",
              "  background-color: #b60026;\n",
              "  color: #f1f1f1;\n",
              "}\n",
              "#T_becd4_row8_col2 {\n",
              "  background-color: #fff9be;\n",
              "  color: #000000;\n",
              "}\n",
              "#T_becd4_row9_col1 {\n",
              "  background-color: #fd9c42;\n",
              "  color: #000000;\n",
              "}\n",
              "#T_becd4_row9_col2 {\n",
              "  background-color: #d9131f;\n",
              "  color: #f1f1f1;\n",
              "}\n",
              "</style>\n",
              "<table id=\"T_becd4_\" class=\"dataframe\">\n",
              "  <thead>\n",
              "    <tr>\n",
              "      <th class=\"blank level0\" >&nbsp;</th>\n",
              "      <th class=\"col_heading level0 col0\" >A</th>\n",
              "      <th class=\"col_heading level0 col1\" >B</th>\n",
              "      <th class=\"col_heading level0 col2\" >C</th>\n",
              "      <th class=\"col_heading level0 col3\" >D</th>\n",
              "      <th class=\"col_heading level0 col4\" >E</th>\n",
              "    </tr>\n",
              "  </thead>\n",
              "  <tbody>\n",
              "    <tr>\n",
              "      <th id=\"T_becd4_level0_row0\" class=\"row_heading level0 row0\" >0</th>\n",
              "      <td id=\"T_becd4_row0_col0\" class=\"data row0 col0\" >1.000000</td>\n",
              "      <td id=\"T_becd4_row0_col1\" class=\"data row0 col1\" >1.329212</td>\n",
              "      <td id=\"T_becd4_row0_col2\" class=\"data row0 col2\" >-0.770033</td>\n",
              "      <td id=\"T_becd4_row0_col3\" class=\"data row0 col3\" >-0.316280</td>\n",
              "      <td id=\"T_becd4_row0_col4\" class=\"data row0 col4\" >-0.990810</td>\n",
              "    </tr>\n",
              "    <tr>\n",
              "      <th id=\"T_becd4_level0_row1\" class=\"row_heading level0 row1\" >1</th>\n",
              "      <td id=\"T_becd4_row1_col0\" class=\"data row1 col0\" >2.000000</td>\n",
              "      <td id=\"T_becd4_row1_col1\" class=\"data row1 col1\" >-1.070816</td>\n",
              "      <td id=\"T_becd4_row1_col2\" class=\"data row1 col2\" >-1.438713</td>\n",
              "      <td id=\"T_becd4_row1_col3\" class=\"data row1 col3\" >0.564417</td>\n",
              "      <td id=\"T_becd4_row1_col4\" class=\"data row1 col4\" >0.295722</td>\n",
              "    </tr>\n",
              "    <tr>\n",
              "      <th id=\"T_becd4_level0_row2\" class=\"row_heading level0 row2\" >2</th>\n",
              "      <td id=\"T_becd4_row2_col0\" class=\"data row2 col0\" >3.000000</td>\n",
              "      <td id=\"T_becd4_row2_col1\" class=\"data row2 col1\" >-1.626404</td>\n",
              "      <td id=\"T_becd4_row2_col2\" class=\"data row2 col2\" >0.219565</td>\n",
              "      <td id=\"T_becd4_row2_col3\" class=\"data row2 col3\" >0.678805</td>\n",
              "      <td id=\"T_becd4_row2_col4\" class=\"data row2 col4\" >1.889273</td>\n",
              "    </tr>\n",
              "    <tr>\n",
              "      <th id=\"T_becd4_level0_row3\" class=\"row_heading level0 row3\" >3</th>\n",
              "      <td id=\"T_becd4_row3_col0\" class=\"data row3 col0\" >4.000000</td>\n",
              "      <td id=\"T_becd4_row3_col1\" class=\"data row3 col1\" >0.961538</td>\n",
              "      <td id=\"T_becd4_row3_col2\" class=\"data row3 col2\" >0.104011</td>\n",
              "      <td id=\"T_becd4_row3_col3\" class=\"data row3 col3\" >-0.481165</td>\n",
              "      <td id=\"T_becd4_row3_col4\" class=\"data row3 col4\" >0.850229</td>\n",
              "    </tr>\n",
              "    <tr>\n",
              "      <th id=\"T_becd4_level0_row4\" class=\"row_heading level0 row4\" >4</th>\n",
              "      <td id=\"T_becd4_row4_col0\" class=\"data row4 col0\" >5.000000</td>\n",
              "      <td id=\"T_becd4_row4_col1\" class=\"data row4 col1\" >1.453425</td>\n",
              "      <td id=\"T_becd4_row4_col2\" class=\"data row4 col2\" >1.057737</td>\n",
              "      <td id=\"T_becd4_row4_col3\" class=\"data row4 col3\" >0.165562</td>\n",
              "      <td id=\"T_becd4_row4_col4\" class=\"data row4 col4\" >0.515018</td>\n",
              "    </tr>\n",
              "    <tr>\n",
              "      <th id=\"T_becd4_level0_row5\" class=\"row_heading level0 row5\" >5</th>\n",
              "      <td id=\"T_becd4_row5_col0\" class=\"data row5 col0\" >6.000000</td>\n",
              "      <td id=\"T_becd4_row5_col1\" class=\"data row5 col1\" >-1.336936</td>\n",
              "      <td id=\"T_becd4_row5_col2\" class=\"data row5 col2\" >0.562861</td>\n",
              "      <td id=\"T_becd4_row5_col3\" class=\"data row5 col3\" >1.392855</td>\n",
              "      <td id=\"T_becd4_row5_col4\" class=\"data row5 col4\" >-0.063328</td>\n",
              "    </tr>\n",
              "    <tr>\n",
              "      <th id=\"T_becd4_level0_row6\" class=\"row_heading level0 row6\" >6</th>\n",
              "      <td id=\"T_becd4_row6_col0\" class=\"data row6 col0\" >7.000000</td>\n",
              "      <td id=\"T_becd4_row6_col1\" class=\"data row6 col1\" >0.121668</td>\n",
              "      <td id=\"T_becd4_row6_col2\" class=\"data row6 col2\" >1.207603</td>\n",
              "      <td id=\"T_becd4_row6_col3\" class=\"data row6 col3\" >-0.002040</td>\n",
              "      <td id=\"T_becd4_row6_col4\" class=\"data row6 col4\" >1.627796</td>\n",
              "    </tr>\n",
              "    <tr>\n",
              "      <th id=\"T_becd4_level0_row7\" class=\"row_heading level0 row7\" >7</th>\n",
              "      <td id=\"T_becd4_row7_col0\" class=\"data row7 col0\" >8.000000</td>\n",
              "      <td id=\"T_becd4_row7_col1\" class=\"data row7 col1\" >0.354493</td>\n",
              "      <td id=\"T_becd4_row7_col2\" class=\"data row7 col2\" >1.037528</td>\n",
              "      <td id=\"T_becd4_row7_col3\" class=\"data row7 col3\" >-0.385684</td>\n",
              "      <td id=\"T_becd4_row7_col4\" class=\"data row7 col4\" >0.519818</td>\n",
              "    </tr>\n",
              "    <tr>\n",
              "      <th id=\"T_becd4_level0_row8\" class=\"row_heading level0 row8\" >8</th>\n",
              "      <td id=\"T_becd4_row8_col0\" class=\"data row8 col0\" >9.000000</td>\n",
              "      <td id=\"T_becd4_row8_col1\" class=\"data row8 col1\" >1.686583</td>\n",
              "      <td id=\"T_becd4_row8_col2\" class=\"data row8 col2\" >-1.325963</td>\n",
              "      <td id=\"T_becd4_row8_col3\" class=\"data row8 col3\" >1.428984</td>\n",
              "      <td id=\"T_becd4_row8_col4\" class=\"data row8 col4\" >-2.089354</td>\n",
              "    </tr>\n",
              "    <tr>\n",
              "      <th id=\"T_becd4_level0_row9\" class=\"row_heading level0 row9\" >9</th>\n",
              "      <td id=\"T_becd4_row9_col0\" class=\"data row9 col0\" >10.000000</td>\n",
              "      <td id=\"T_becd4_row9_col1\" class=\"data row9 col1\" >-0.129820</td>\n",
              "      <td id=\"T_becd4_row9_col2\" class=\"data row9 col2\" >0.631523</td>\n",
              "      <td id=\"T_becd4_row9_col3\" class=\"data row9 col3\" >-0.586538</td>\n",
              "      <td id=\"T_becd4_row9_col4\" class=\"data row9 col4\" >0.290720</td>\n",
              "    </tr>\n",
              "  </tbody>\n",
              "</table>\n"
            ]
          },
          "metadata": {},
          "execution_count": 30
        }
      ]
    },
    {
      "cell_type": "code",
      "source": [],
      "metadata": {
        "id": "K1O8ojzFMoSs"
      },
      "execution_count": null,
      "outputs": []
    }
  ]
}