{
  "nbformat": 4,
  "nbformat_minor": 0,
  "metadata": {
    "colab": {
      "provenance": []
    },
    "kernelspec": {
      "name": "python3",
      "display_name": "Python 3"
    },
    "language_info": {
      "name": "python"
    }
  },
  "cells": [
    {
      "cell_type": "markdown",
      "source": [
        "Sum of numbers: Write a program that uses a for loop to\n",
        " calculate the sum of all numbers from 1 to n (n is a user input)."
      ],
      "metadata": {
        "id": "JHQMr7kGnROz"
      }
    },
    {
      "cell_type": "code",
      "execution_count": null,
      "metadata": {
        "id": "haGGQU8-nNw1"
      },
      "outputs": [],
      "source": [
        "n = int(input(\"Enter the value of n: \"))\n",
        "total = 0\n",
        "\n",
        "for i in range(1, n + 1):\n",
        "    total += i\n",
        "\n",
        "print(\"The sum of numbers from 1 to\", n, \"is:\", total)"
      ]
    },
    {
      "cell_type": "markdown",
      "source": [
        "Factorial: Write a program that calculates\n",
        " the factorial of a given number using a for loop."
      ],
      "metadata": {
        "id": "22S3kO0onWg0"
      }
    },
    {
      "cell_type": "code",
      "source": [
        "n = int(input(\"Enter the number: \"))\n",
        "factorial = 1\n",
        "\n",
        "for i in range(1, n + 1):\n",
        "    factorial *= i\n",
        "\n",
        "print(\"The factorial of\", n, \"is:\", factorial)"
      ],
      "metadata": {
        "id": "f7_prySYnYgh"
      },
      "execution_count": null,
      "outputs": []
    },
    {
      "cell_type": "markdown",
      "source": [
        "Print the pattern: Write a program that uses for\n",
        " loops to print a right-angled triangle pattern of stars.\n",
        " The number of rows is determined by user input."
      ],
      "metadata": {
        "id": "gYJJMNAxnahp"
      }
    },
    {
      "cell_type": "code",
      "source": [
        "n = int(input(\"Enter the number of rows: \"))\n",
        "\n",
        "for i in range(1, n + 1):\n",
        "    print(\"*\" * i)"
      ],
      "metadata": {
        "id": "c19QAKBKncKR"
      },
      "execution_count": null,
      "outputs": []
    },
    {
      "cell_type": "markdown",
      "source": [
        "Prime numbers: Write a program that uses a for loop to\n",
        " print all prime numbers between 1 and n (n is a user input)."
      ],
      "metadata": {
        "id": "D3tamzbQneRu"
      }
    },
    {
      "cell_type": "code",
      "source": [
        "n = int(input(\"Enter the value of n: \"))\n",
        "\n",
        "print(\"Prime numbers between 1 and\", n, \"are:\")\n",
        "x=False\n",
        "for i in range(1, n + 1):\n",
        "  if n%i==0:\n",
        "    print(n,\" is not a prime number.\")\n",
        "  else:\n",
        "    x=True\n",
        "\n",
        "if x==True:\n",
        "  print(n,\" is a prime number :)\")"
      ],
      "metadata": {
        "id": "aMmwgBjYnghS"
      },
      "execution_count": null,
      "outputs": []
    },
    {
      "cell_type": "markdown",
      "source": [
        "Fibonacci sequence: Write a program that prints the first n\n",
        " numbers of the Fibonacci sequence using a for loop (n is a user input)."
      ],
      "metadata": {
        "id": "nL8YctBhn1-F"
      }
    },
    {
      "cell_type": "code",
      "source": [
        "n = int(input(\"Enter the number of terms: \"))\n",
        "\n",
        "a, b = 0, 1\n",
        "\n",
        "for i in range(n):\n",
        "    print(a, end=\" \")\n",
        "    a, b = b, a + b"
      ],
      "metadata": {
        "id": "D6lKPle5n3uQ"
      },
      "execution_count": null,
      "outputs": []
    },
    {
      "cell_type": "markdown",
      "source": [
        "List comprehension: Write a program that creates a new list containing the \n",
        "squares of all numbers from 1 to n (n is a user input) using a for loop and\n",
        " list comprehension."
      ],
      "metadata": {
        "id": "N-D7wxTjn5ec"
      }
    },
    {
      "cell_type": "code",
      "source": [
        "n= int(input(\"enter you number:\"))\n",
        "square=[i**2 for i in range(n)]\n",
        "\n",
        "print(square)"
      ],
      "metadata": {
        "id": "v3nGg4V_n7oZ"
      },
      "execution_count": null,
      "outputs": []
    }
  ]
}