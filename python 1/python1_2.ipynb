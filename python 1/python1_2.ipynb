{
  "nbformat": 4,
  "nbformat_minor": 0,
  "metadata": {
    "colab": {
      "provenance": []
    },
    "kernelspec": {
      "name": "python3",
      "display_name": "Python 3"
    },
    "language_info": {
      "name": "python"
    }
  },
  "cells": [
    {
      "cell_type": "markdown",
      "source": [
        "Triangle Type Identifier:\n",
        "Write a program that takes the lengths of the three sides of a triangle as input and identifies if the triangle is equilateral, isosceles, or scalene.\n",
        "Take user input for the three side lengths (a, b, and c).\n",
        "Use if-elif-else statements to check the triangle type based on the side lengths.\n",
        "Print the triangle type."
      ],
      "metadata": {
        "id": "-YsovtxUqPdp"
      }
    },
    {
      "cell_type": "code",
      "execution_count": null,
      "metadata": {
        "id": "H9ftKgNgqL31"
      },
      "outputs": [],
      "source": [
        "a = float(input(\"Enter the first side length: \"))\n",
        "b = float(input(\"Enter the second side length: \"))\n",
        "c = float(input(\"Enter the third side length: \"))\n",
        "\n",
        "if a == b == c:\n",
        "    print(\"The triangle is equilateral.\")\n",
        "elif a == b or b == c or c == a:\n",
        "    print(\"The triangle is isosceles.\")\n",
        "else:\n",
        "    print(\"The triangle is scalene.\")\n"
      ]
    },
    {
      "cell_type": "markdown",
      "source": [
        "Simple Age Classifier:\n",
        "Create a program that takes a person's age as input and classifies them into one of four age groups: child (0-12), teenager (13-17), adult (18-64), or senior (65+).\n",
        "Take user input for the person's age (integer).\n",
        "Use if-elif-else statements to check the age range and assign an age group.\n",
        "Print the age group."
      ],
      "metadata": {
        "id": "NosZOXCJqboO"
      }
    },
    {
      "cell_type": "code",
      "source": [
        "age = int(input(\"Enter the person's age: \"))\n",
        "\n",
        "if age <= 12:\n",
        "    age_group = \"child\"\n",
        "elif age <= 17:\n",
        "    age_group = \"teenager\"\n",
        "elif age <= 64:\n",
        "    age_group = \"adult\"\n",
        "else:\n",
        "    age_group = \"senior\"\n",
        "\n",
        "print(\"The person is a\", age_group)\n"
      ],
      "metadata": {
        "id": "E3pV1qq6qdZl"
      },
      "execution_count": null,
      "outputs": []
    },
    {
      "cell_type": "markdown",
      "source": [
        "Temperature Converter:\n",
        "Write a program that takes user input for a temperature value and converts it between Celsius and Fahrenheit.\n",
        "Take user input for the temperature value (float).\n",
        "Take user input for the original unit (C for Celsius or F for Fahrenheit).\n",
        "Use if-elif-else statements to call the appropriate conversion function based on the original unit.\n",
        "Print the converted temperature."
      ],
      "metadata": {
        "id": "WoYISCDRqhji"
      }
    },
    {
      "cell_type": "code",
      "source": [
        "temperature = float(input(\"Enter the temperature value: \"))\n",
        "unit = input(\"Enter the original unit (C for Celsius or F for Fahrenheit) >>>Capital letter<<<: \")\n",
        "\n",
        "if unit == \"C\":\n",
        "    converted_temperature = temperature * 9/5 + 32\n",
        "    print(temperature, \"Celsius is\", converted_temperature, \"Fahrenheit\")\n",
        "elif unit == \"F\":\n",
        "    converted_temperature = (temperature - 32) * 5/9\n",
        "    print(temperature, \"Fahrenheit is\", converted_temperature, \"Celsius\")\n",
        "else:\n",
        "    print(\"Invalid unit. Please enter C or F.\")\n",
        "\n"
      ],
      "metadata": {
        "colab": {
          "base_uri": "https://localhost:8080/"
        },
        "id": "UR4tq6EYqjYo",
        "outputId": "a2f0da24-857f-4ae6-d151-ceb5f9321db0"
      },
      "execution_count": 1,
      "outputs": [
        {
          "output_type": "stream",
          "name": "stdout",
          "text": [
            "Enter the temperature value: 20\n",
            "Enter the original unit (C for Celsius or F for Fahrenheit): C\n",
            "20.0 Celsius is 68.0 Fahrenheit\n"
          ]
        }
      ]
    },
    {
      "cell_type": "markdown",
      "source": [
        "Square, Cube, and Square Root:\n",
        "Create three lambda functions that calculate the square, cube, and square root of a given number.\n",
        "Take user input for a number.\n",
        "Create a lambda function for each operation: square, cube, and square root.\n",
        "Calculate and print the results using the lambda functions."
      ],
      "metadata": {
        "id": "POxSHcOvrCdL"
      }
    },
    {
      "cell_type": "code",
      "source": [
        "import math\n",
        "\n",
        "num = float(input(\"Enter a number: \"))\n",
        "\n",
        "square = lambda x: x ** 2\n",
        "cube = lambda x: x ** 3\n",
        "sqrt = lambda x: math.sqrt(x)\n",
        "\n",
        "print(\"Square:\", square(num))\n",
        "print(\"Cube:\", cube(num))\n",
        "print(\"Square root:\", sqrt(num))\n"
      ],
      "metadata": {
        "id": "tiM95Gf3rE7V"
      },
      "execution_count": null,
      "outputs": []
    }
  ]
}