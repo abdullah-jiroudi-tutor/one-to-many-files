{
  "nbformat": 4,
  "nbformat_minor": 0,
  "metadata": {
    "colab": {
      "provenance": []
    },
    "kernelspec": {
      "name": "python3",
      "display_name": "Python 3"
    },
    "language_info": {
      "name": "python"
    }
  },
  "cells": [
    {
      "cell_type": "markdown",
      "source": [
        "Odd or Even:\n",
        "Write a program that takes a user's input (an integer) and determines if it's odd or even.\n",
        "Take user input for an integer.\n",
        "Use the modulo operator (%) to check if the number is divisible by 2.\n",
        "Use an if-else statement to print whether the number is odd or even."
      ],
      "metadata": {
        "id": "9wfHR5SXl4nd"
      }
    },
    {
      "cell_type": "code",
      "execution_count": null,
      "metadata": {
        "id": "QlQKNv1cl0Us"
      },
      "outputs": [],
      "source": [
        "num = int(input(\"Enter an integer: \"))\n",
        "\n",
        "if num % 2 == 0:\n",
        "    print(\"The number is even.\")\n",
        "else:\n",
        "    print(\"The number is odd.\")"
      ]
    },
    {
      "cell_type": "markdown",
      "source": [
        "Simple Grading System:\n",
        "Create a program that takes a student's score as input and assigns a letter grade based on the score.\n",
        "Take user input for the student's score (0-100).\n",
        "Use if-elif-else statements to check the score range and assign a letter grade (A, B, C, D, or F).\n",
        "Print the letter grade."
      ],
      "metadata": {
        "id": "Fe64IpNJl9xl"
      }
    },
    {
      "cell_type": "code",
      "source": [
        "score = int(input(\"Enter the student's score (0-100): \"))\n",
        "\n",
        "if score >= 90:\n",
        "    grade = \"A\"\n",
        "elif score >= 80:\n",
        "    grade = \"B\"\n",
        "elif score >= 70:\n",
        "    grade = \"C\"\n",
        "elif score >= 60:\n",
        "    grade = \"D\"\n",
        "else:\n",
        "    grade = \"F\"\n",
        "\n",
        "print(\"The letter grade is:\", grade)"
      ],
      "metadata": {
        "id": "FiF5dLAPmAHN"
      },
      "execution_count": null,
      "outputs": []
    },
    {
      "cell_type": "markdown",
      "source": [
        "Maximum of Three Numbers:\n",
        "Write a program that takes three user inputs (integers) and determines the maximum value among them.\n",
        "Take user input for three integers (a, b, and c).\n",
        "Use nested if-else statements to compare the integers and determine the maximum value.\n",
        "Print the maximum value."
      ],
      "metadata": {
        "id": "T4SBkwspmDTm"
      }
    },
    {
      "cell_type": "code",
      "source": [
        "a = int(input(\"Enter the first number: \"))\n",
        "b = int(input(\"Enter the second number: \"))\n",
        "c = int(input(\"Enter the third number: \"))\n",
        "\n",
        "if a >= b and a >= c:\n",
        "    max_value = a\n",
        "elif b >= a and b >= c:\n",
        "    max_value = b\n",
        "else:\n",
        "    max_value = c\n",
        "\n",
        "print(\"The maximum value is:\", max_value)"
      ],
      "metadata": {
        "id": "gB6qK_7QmFTX"
      },
      "execution_count": null,
      "outputs": []
    },
    {
      "cell_type": "markdown",
      "source": [
        "Leap Year Checker:\n",
        "Create a program that checks whether a given year (user input) is a leap year or not.\n",
        "Take user input for the year (integer).\n",
        "Use if-elif-else statements with conditional operators (and, or) to check if the year is a leap year.\n",
        "Leap year: Divisible by 4 and (not divisible by 100 or divisible by 400).\n",
        "Print whether the year is a leap year or not."
      ],
      "metadata": {
        "id": "ZW3VeRbgmH37"
      }
    },
    {
      "cell_type": "code",
      "source": [
        "year = int(input(\"Enter a year: \"))\n",
        "\n",
        "if year % 4 == 0 and (year % 100 != 0 or year % 400 == 0):\n",
        "    print(year, \"is a leap year.\")\n",
        "else:\n",
        "    print(year, \"is not a leap year.\")"
      ],
      "metadata": {
        "id": "jxIgGxq8mKob"
      },
      "execution_count": null,
      "outputs": []
    },
    {
      "cell_type": "markdown",
      "source": [
        "Simple Calculator with Error Handling:\n",
        "Take user input for the first number, the second number, and the operation to perform.\n",
        "Use if-elif-else statements to check if the input operation is valid (addition, subtraction, multiplication, or division).\n",
        "If the operation is invalid, print an error message and exit.\n",
        "If the operation is division, check if the second number is zero using an if statement. If it is, print an error message and exit.\n",
        "Print the result of the calculation."
      ],
      "metadata": {
        "id": "7A3_T57kmMxt"
      }
    },
    {
      "cell_type": "code",
      "source": [
        "num1 = float(input(\"Enter the first number: \"))\n",
        "num2 = float(input(\"Enter the second number: \"))\n",
        "operation = input(\"Enter the operation (+, -, *, /): \")\n",
        "\n",
        "if operation == \"+\":\n",
        "    result = num1+num2\n",
        "elif operation == \"-\":\n",
        "    result = num1-num2\n",
        "elif operation == \"*\":\n",
        "    result = num1*num2\n",
        "elif operation == \"/\":\n",
        "    if num2 == 0:\n",
        "        print(\"Error: Division by zero is not allowed.\")\n",
        "        exit()\n",
        "    else:\n",
        "        result = num1/num2\n",
        "else:\n",
        "    print(\"Error: Invalid operation.\")\n",
        "    exit()\n",
        "\n",
        "print(\"The result is:\", result)"
      ],
      "metadata": {
        "id": "5hU0ibnqmOjG"
      },
      "execution_count": null,
      "outputs": []
    }
  ]
}